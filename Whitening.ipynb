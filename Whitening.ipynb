{
 "cells": [
  {
   "cell_type": "code",
   "execution_count": 1,
   "id": "6b287c89",
   "metadata": {},
   "outputs": [],
   "source": [
    "import numpy as np"
   ]
  },
  {
   "cell_type": "code",
   "execution_count": 2,
   "id": "8f5a788b",
   "metadata": {},
   "outputs": [],
   "source": [
    "import seaborn as sns"
   ]
  },
  {
   "cell_type": "markdown",
   "id": "4bb440b6",
   "metadata": {},
   "source": [
    "# Generate Data"
   ]
  },
  {
   "cell_type": "code",
   "execution_count": 3,
   "id": "ee86f616",
   "metadata": {},
   "outputs": [],
   "source": [
    "n = 100000\n",
    "d = 4\n",
    "# X = np.random.randn(n,d)"
   ]
  },
  {
   "cell_type": "code",
   "execution_count": 4,
   "id": "8687997b",
   "metadata": {},
   "outputs": [],
   "source": [
    "# diagonal elements are 1, off-diagonals are 0.2.\n",
    "cov_matrix = 0.2 * np.ones((d, d)) + (1 - 0.2) * np.eye(d)\n",
    "mean_vector = np.zeros(d)  \n",
    "\n",
    "X = np.random.multivariate_normal(mean_vector, cov_matrix, size = n)"
   ]
  },
  {
   "cell_type": "code",
   "execution_count": 5,
   "id": "acbd45ff",
   "metadata": {},
   "outputs": [],
   "source": [
    "mu = X.mean(axis = 0)\n",
    "cov = (1/n) * (X.T @ X)\n",
    "cov_inv = np.linalg.inv(cov)"
   ]
  },
  {
   "cell_type": "code",
   "execution_count": 6,
   "id": "15ce6758",
   "metadata": {},
   "outputs": [],
   "source": [
    "vals, vecs = np.linalg.eigh(cov)\n",
    "cov_inv_sqrt_chol = np.linalg.cholesky(cov_inv)\n",
    "cov_inv_sqrt = vecs @ np.diag(1.0 / np.sqrt(vals)) @ vecs.T"
   ]
  },
  {
   "cell_type": "code",
   "execution_count": 7,
   "id": "6cbf3be1",
   "metadata": {},
   "outputs": [
    {
     "data": {
      "text/plain": [
       "array([[1.00178421, 0.19622465, 0.19787608, 0.19749126],\n",
       "       [0.19622465, 0.99674144, 0.19879748, 0.19996641],\n",
       "       [0.19787608, 0.19879748, 1.00513467, 0.19545305],\n",
       "       [0.19749126, 0.19996641, 0.19545305, 1.00081907]])"
      ]
     },
     "execution_count": 7,
     "metadata": {},
     "output_type": "execute_result"
    }
   ],
   "source": [
    "cov"
   ]
  },
  {
   "cell_type": "code",
   "execution_count": 8,
   "id": "356e7d25",
   "metadata": {},
   "outputs": [
    {
     "data": {
      "text/plain": [
       "array([[ 1.08899492, -0.15268363, -0.1541882 , -0.15427247],\n",
       "       [-0.15268363,  1.09621697, -0.15594376, -0.15844343],\n",
       "       [-0.1541882 , -0.15594376,  1.08532953, -0.15037347],\n",
       "       [-0.15427247, -0.15844343, -0.15037347,  1.09064847]])"
      ]
     },
     "execution_count": 8,
     "metadata": {},
     "output_type": "execute_result"
    }
   ],
   "source": [
    "cov_inv"
   ]
  },
  {
   "cell_type": "markdown",
   "id": "dba1a72b",
   "metadata": {},
   "source": [
    "# Basic Whitening"
   ]
  },
  {
   "cell_type": "code",
   "execution_count": 9,
   "id": "37230a5e",
   "metadata": {},
   "outputs": [],
   "source": [
    "W1 = cov_inv_sqrt_chol"
   ]
  },
  {
   "cell_type": "code",
   "execution_count": 10,
   "id": "e212447d",
   "metadata": {},
   "outputs": [
    {
     "data": {
      "text/plain": [
       "array([[ 1.08899492, -0.15268363, -0.1541882 , -0.15427247],\n",
       "       [-0.15268363,  1.09621697, -0.15594376, -0.15844343],\n",
       "       [-0.1541882 , -0.15594376,  1.08532953, -0.15037347],\n",
       "       [-0.15427247, -0.15844343, -0.15037347,  1.09064847]])"
      ]
     },
     "execution_count": 10,
     "metadata": {},
     "output_type": "execute_result"
    }
   ],
   "source": [
    "W1 @ W1.T"
   ]
  },
  {
   "cell_type": "code",
   "execution_count": 11,
   "id": "aacc3b16",
   "metadata": {},
   "outputs": [],
   "source": [
    "Y1 = X @ W1"
   ]
  },
  {
   "cell_type": "code",
   "execution_count": 12,
   "id": "8aae551f",
   "metadata": {},
   "outputs": [],
   "source": [
    "cov_transform_1 = 1/n * (Y1.T @ Y1)"
   ]
  },
  {
   "cell_type": "code",
   "execution_count": 13,
   "id": "c899efce",
   "metadata": {},
   "outputs": [
    {
     "data": {
      "text/plain": [
       "array([[ 1.00000000e+00, -3.43227669e-16,  1.48450141e-16,\n",
       "        -2.49791299e-16],\n",
       "       [-3.43227669e-16,  1.00000000e+00,  2.11786144e-16,\n",
       "        -2.30589436e-16],\n",
       "       [ 1.48450141e-16,  2.11786144e-16,  1.00000000e+00,\n",
       "        -1.94058103e-16],\n",
       "       [-2.49791299e-16, -2.30589436e-16, -1.94058103e-16,\n",
       "         1.00000000e+00]])"
      ]
     },
     "execution_count": 13,
     "metadata": {},
     "output_type": "execute_result"
    }
   ],
   "source": [
    "cov_transform_1"
   ]
  },
  {
   "cell_type": "code",
   "execution_count": 14,
   "id": "665b0b51",
   "metadata": {},
   "outputs": [
    {
     "data": {
      "text/plain": [
       "<Axes: >"
      ]
     },
     "execution_count": 14,
     "metadata": {},
     "output_type": "execute_result"
    },
    {
     "data": {
      "image/png": "[encoded data removed]",
      "text/plain": [
       "<Figure size 432x288 with 2 Axes>"
      ]
     },
     "metadata": {
      "needs_background": "light"
     },
     "output_type": "display_data"
    }
   ],
   "source": [
    "sns.heatmap(cov_transform_1)"
   ]
  },
  {
   "cell_type": "markdown",
   "id": "fec9a050",
   "metadata": {},
   "source": [
    "# Generic Whitening"
   ]
  },
  {
   "cell_type": "code",
   "execution_count": 15,
   "id": "c3f8c838",
   "metadata": {},
   "outputs": [],
   "source": [
    "# Generate a random orthogonal basis Q\n",
    "A = np.random.rand(d, d)\n",
    "Q, R = np.linalg.qr(A)"
   ]
  },
  {
   "cell_type": "code",
   "execution_count": 16,
   "id": "fd2bc84d",
   "metadata": {},
   "outputs": [
    {
     "data": {
      "text/plain": [
       "array([[ 1.00000000e+00,  5.75385483e-17, -5.94818704e-17,\n",
       "        -1.28131680e-17],\n",
       "       [ 5.75385483e-17,  1.00000000e+00,  9.86982418e-17,\n",
       "         2.97996153e-16],\n",
       "       [-5.94818704e-17,  9.86982418e-17,  1.00000000e+00,\n",
       "         5.69896991e-17],\n",
       "       [-1.28131680e-17,  2.97996153e-16,  5.69896991e-17,\n",
       "         1.00000000e+00]])"
      ]
     },
     "execution_count": 16,
     "metadata": {},
     "output_type": "execute_result"
    }
   ],
   "source": [
    "Q.T @ Q"
   ]
  },
  {
   "cell_type": "code",
   "execution_count": 17,
   "id": "8ea500e2",
   "metadata": {},
   "outputs": [],
   "source": [
    "W2 = cov_inv_sqrt @ Q\n",
    "# W2 = np.linalg.cholesky(cov_inv) @ Q"
   ]
  },
  {
   "cell_type": "code",
   "execution_count": 18,
   "id": "a4f4e8d8",
   "metadata": {},
   "outputs": [],
   "source": [
    "Y2 = X @ W2\n",
    "cov_transform_2 = 1/n * (Y2.T @ Y2)"
   ]
  },
  {
   "cell_type": "code",
   "execution_count": 19,
   "id": "eabcbe5d",
   "metadata": {},
   "outputs": [
    {
     "data": {
      "text/plain": [
       "array([[ 1.00000000e+00, -1.52411417e-17, -2.30915287e-16,\n",
       "         1.02176045e-16],\n",
       "       [-1.52411417e-17,  1.00000000e+00, -1.20419230e-16,\n",
       "         7.03828107e-16],\n",
       "       [-2.30915287e-16, -1.20419230e-16,  1.00000000e+00,\n",
       "         2.37885267e-16],\n",
       "       [ 1.02176045e-16,  7.03828107e-16,  2.37885267e-16,\n",
       "         1.00000000e+00]])"
      ]
     },
     "execution_count": 19,
     "metadata": {},
     "output_type": "execute_result"
    }
   ],
   "source": [
    "cov_transform_2"
   ]
  },
  {
   "cell_type": "code",
   "execution_count": 20,
   "id": "4e2c5464",
   "metadata": {},
   "outputs": [
    {
     "data": {
      "text/plain": [
       "<Axes: >"
      ]
     },
     "execution_count": 20,
     "metadata": {},
     "output_type": "execute_result"
    },
    {
     "data": {
      "image/png": "[encoded data removed]",
      "text/plain": [
       "<Figure size 432x288 with 2 Axes>"
      ]
     },
     "metadata": {
      "needs_background": "light"
     },
     "output_type": "display_data"
    }
   ],
   "source": [
    "sns.heatmap(cov_transform_2)"
   ]
  }
 ],
 "metadata": {
  "kernelspec": {
   "display_name": "Python (codon)",
   "language": "python",
   "name": "codon_a"
  },
  "language_info": {
   "codemirror_mode": {
    "name": "ipython",
    "version": 3
   },
   "file_extension": ".py",
   "mimetype": "text/x-python",
   "name": "python",
   "nbconvert_exporter": "python",
   "pygments_lexer": "ipython3",
   "version": "3.10.4"
  }
 },
 "nbformat": 4,
 "nbformat_minor": 5
}
